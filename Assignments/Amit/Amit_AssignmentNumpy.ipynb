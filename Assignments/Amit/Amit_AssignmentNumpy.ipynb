{
 "cells": [
  {
   "cell_type": "markdown",
   "metadata": {},
   "source": [
    "## NUMPY\n",
    "- create a numpy array of 5 zeros.\n",
    "- check datatype, itemsize and shape of above\n",
    "- create a numpy array of ones of shape (5,4)\n",
    "- create a matrix of shape 4,5 with numbers from 1-20\n",
    "- multiply all elements of above array by 10\n",
    "- print odd elements from array\n",
    "- replace all even elements by their negative\n",
    "\n",
    "  \n",
    "- create a linearly spaced matrix M1 of size 4x4 having values in range 1-16\n",
    "- create a transpose of above matrix call it M2\n",
    "- find sum of above matrix M3 = (M1 + M2)\n",
    "- Find Transpose of M3, Call it MT1. Check if M3 == MT1\n",
    "- find diffrence of M4 = (M1 - M2)\n",
    "- Find Transpose of M4, Call it MT2. Check if M4 == MT2. Also check if M4 == -MT2\n",
    "  \n",
    "\n",
    "- create a matrix (3x4) R1 of random numbers between 10-40\n",
    "- find min and max column wise\n",
    "- replace the last column with sum of all the columns\n",
    "\n",
    "\n",
    "- create a matrix (3x4) R1 of random numbers between 10-40\n",
    "- replace all even elements with nan in R1\n",
    "- count number of nan in R1\n",
    "\n",
    "\n",
    "\n",
    "- check output of this code  \n",
    "`a1 = np.arange(1,10).reshape(3,3)\n",
    "a2 = np.arange(11,20).reshape(3,3)\n",
    "a3 = np.append(a1,a2)\n",
    "print(a3)\n",
    "a3 = np.append(a1,a2, axis = 0)\n",
    "print(a3)\n",
    "a3 = np.append(a1,a2, axis = 1)\n",
    "print(a3)\n",
    "`\n"
   ]
  },
  {
   "cell_type": "code",
   "execution_count": 19,
   "metadata": {},
   "outputs": [
    {
     "name": "stdout",
     "output_type": "stream",
     "text": [
      "[0. 0. 0. 0. 0.] float64 (5,) 8\n"
     ]
    }
   ],
   "source": [
    "#1.create a numpy array of 5 zeros.check datatype, itemsize and shape of above\n",
    "import numpy as np\n",
    "a = np.zeros(5)\n",
    "print(a,a.dtype,a.shape,a.itemsize)"
   ]
  },
  {
   "cell_type": "code",
   "execution_count": 1,
   "metadata": {},
   "outputs": [
    {
     "name": "stdout",
     "output_type": "stream",
     "text": [
      "[[1 1 1 1]\n",
      " [1 1 1 1]\n",
      " [1 1 1 1]\n",
      " [1 1 1 1]\n",
      " [1 1 1 1]] (5, 4)\n"
     ]
    }
   ],
   "source": [
    "# 2.create a numpy array of ones of shape (5,4)\n",
    "import numpy as np\n",
    "a = np.ones((5,4) ,dtype='int32')\n",
    "print(a,a.shape)"
   ]
  },
  {
   "cell_type": "code",
   "execution_count": 35,
   "metadata": {},
   "outputs": [
    {
     "name": "stdout",
     "output_type": "stream",
     "text": [
      "[[ 1  2  3  4  5]\n",
      " [ 6  7  8  9 10]\n",
      " [11 12 13 14 15]\n",
      " [16 17 18 19 20]]\n"
     ]
    }
   ],
   "source": [
    "# 3. create a matrix of shape 4,5 with numbers from 1-20\n",
    "import numpy as np\n",
    "a = np.arange(1,21)\n",
    "r= a.reshape(4,5)\n",
    "print(r)"
   ]
  },
  {
   "cell_type": "code",
   "execution_count": 36,
   "metadata": {},
   "outputs": [
    {
     "name": "stdout",
     "output_type": "stream",
     "text": [
      "[[ 1  2  3  4  5]\n",
      " [ 6  7  8  9 10]\n",
      " [11 12 13 14 15]\n",
      " [16 17 18 19 20]]\n",
      "\n",
      "[ 10  20  30  40  50  60  70  80  90 100 110 120 130 140 150 160 170 180\n",
      " 190 200]\n"
     ]
    }
   ],
   "source": [
    "# 4. multiply all elements of above array by 10\n",
    "import numpy as np\n",
    "a = np.arange(1,21)\n",
    "r= a.reshape(4,5)\n",
    "print(r)\n",
    "print()\n",
    "print(a*10)"
   ]
  },
  {
   "cell_type": "code",
   "execution_count": 40,
   "metadata": {},
   "outputs": [
    {
     "name": "stdout",
     "output_type": "stream",
     "text": [
      "[[ 1  2  3  4  5]\n",
      " [ 6  7  8  9 10]\n",
      " [11 12 13 14 15]\n",
      " [16 17 18 19 20]]\n",
      "\n",
      "[ 1  3  5  7  9 11 13 15 17 19]\n"
     ]
    }
   ],
   "source": [
    "# 5. print odd elements from array\n",
    "import numpy as np\n",
    "a = np.arange(1,21)\n",
    "r= a.reshape(4,5)\n",
    "print(r)\n",
    "print()\n",
    "print(a[np.where(a%2!=0)])"
   ]
  },
  {
   "cell_type": "code",
   "execution_count": 2,
   "metadata": {},
   "outputs": [
    {
     "name": "stdout",
     "output_type": "stream",
     "text": [
      "[[  1  -2   3  -4   5]\n",
      " [ -6   7  -8   9 -10]\n",
      " [ 11 -12  13 -14  15]\n",
      " [-16  17 -18  19 -20]]\n"
     ]
    }
   ],
   "source": [
    "# 6.Replace all even elements by their negative\n",
    "import numpy as np\n",
    "a = np.arange(1,21)\n",
    "r= a.reshape(4,5)\n",
    "a[np.where(a%2==0)] = -a[np.where(a%2==0)]\n",
    "print(r)"
   ]
  },
  {
   "cell_type": "code",
   "execution_count": 6,
   "metadata": {},
   "outputs": [
    {
     "name": "stdout",
     "output_type": "stream",
     "text": [
      "[[ 1.  2.  3.  4.]\n",
      " [ 5.  6.  7.  8.]\n",
      " [ 9. 10. 11. 12.]\n",
      " [13. 14. 15. 16.]]\n"
     ]
    }
   ],
   "source": [
    "#7.create a linearly spaced matrix M1 of size 4x4 having values in range 1-16\n",
    "import numpy as np\n",
    "M1= np.linspace(1,16,16)\n",
    "M1.resize(4,4)\n",
    "print(M1)"
   ]
  },
  {
   "cell_type": "code",
   "execution_count": 67,
   "metadata": {},
   "outputs": [
    {
     "name": "stdout",
     "output_type": "stream",
     "text": [
      "[[ 1.  5.  9. 13.]\n",
      " [ 2.  6. 10. 14.]\n",
      " [ 3.  7. 11. 15.]\n",
      " [ 4.  8. 12. 16.]]\n"
     ]
    }
   ],
   "source": [
    "# 8.Create a transpose of above matrix call it M2\n",
    "import numpy as np\n",
    "M1= np.linspace(1,16,16)\n",
    "M1.resize(4,4)\n",
    "M2=np.transpose(M1)\n",
    "print(M2)"
   ]
  },
  {
   "cell_type": "code",
   "execution_count": 68,
   "metadata": {},
   "outputs": [
    {
     "name": "stdout",
     "output_type": "stream",
     "text": [
      "[[ 2.  7. 12. 17.]\n",
      " [ 7. 12. 17. 22.]\n",
      " [12. 17. 22. 27.]\n",
      " [17. 22. 27. 32.]]\n"
     ]
    }
   ],
   "source": [
    "#9.Find sum of above matrix M3 = (M1 + M2)\n",
    "import numpy as np\n",
    "M1= np.linspace(1,16,16)\n",
    "M1.resize(4,4)\n",
    "M2=np.transpose(M1)\n",
    "M3=(M1+M2)\n",
    "print(M3)"
   ]
  },
  {
   "cell_type": "code",
   "execution_count": 69,
   "metadata": {},
   "outputs": [
    {
     "name": "stdout",
     "output_type": "stream",
     "text": [
      "True\n"
     ]
    }
   ],
   "source": [
    "#10.Find Transpose of M3, Call it MT1. Check if M3 == MT1\n",
    "import numpy as np\n",
    "M1= np.linspace(1,16,16)\n",
    "M1.resize(4,4)\n",
    "M2=np.transpose(M1)\n",
    "M3=(M1+M2)\n",
    "MT1=np.transpose(M3)\n",
    "print((M3==MT1).all())"
   ]
  },
  {
   "cell_type": "code",
   "execution_count": 70,
   "metadata": {},
   "outputs": [
    {
     "name": "stdout",
     "output_type": "stream",
     "text": [
      "[[ 0. -3. -6. -9.]\n",
      " [ 3.  0. -3. -6.]\n",
      " [ 6.  3.  0. -3.]\n",
      " [ 9.  6.  3.  0.]]\n"
     ]
    }
   ],
   "source": [
    "#11.Find diffrence of M4 = (M1 - M2)\n",
    "import numpy as np\n",
    "M1= np.linspace(1,16,16)\n",
    "M1.resize(4,4)\n",
    "M2=np.transpose(M1)\n",
    "M3=(M1+M2)\n",
    "M4=(M1-M2)\n",
    "print(M4)"
   ]
  },
  {
   "cell_type": "code",
   "execution_count": 71,
   "metadata": {},
   "outputs": [
    {
     "name": "stdout",
     "output_type": "stream",
     "text": [
      "False\n",
      "True\n"
     ]
    }
   ],
   "source": [
    "#12.Find Transpose of M4, Call it MT2. Check if M4 == MT2. Also check if M4 == -MT2\n",
    "import numpy as np\n",
    "M1= np.linspace(1,16,16)\n",
    "M1.resize(4,4)\n",
    "M2=np.transpose(M1)\n",
    "M3=(M1+M2)\n",
    "M4=(M1-M2)\n",
    "MT2 = np.transpose(M4)\n",
    "print((M4==MT2).all())\n",
    "print((M4==-MT2).all())"
   ]
  },
  {
   "cell_type": "code",
   "execution_count": 78,
   "metadata": {},
   "outputs": [
    {
     "name": "stdout",
     "output_type": "stream",
     "text": [
      "[[22 19 18 34]\n",
      " [33 38 22 17]\n",
      " [34 21 30 20]]\n",
      "\n",
      "min [[22 19 18 17]]\n",
      "max [[34 38 30 34]]\n"
     ]
    }
   ],
   "source": [
    "#13.Create a matrix (3x4) R1 of random numbers between 10-40 find min and max column wise\n",
    "\n",
    "import numpy as np\n",
    "R1 = np.random.randint(10,40,12)\n",
    "R1.resize(3,4)\n",
    "R1 = np.matrix(R1)\n",
    "print(R1)\n",
    "print()\n",
    "\n",
    "print(\"min\", np.min(R1, axis=0))\n",
    "print(\"max\", np.max(R1, axis=0))"
   ]
  },
  {
   "cell_type": "code",
   "execution_count": 77,
   "metadata": {},
   "outputs": [
    {
     "name": "stdout",
     "output_type": "stream",
     "text": [
      "[[ 10  17  13 117]\n",
      " [ 32  12  32 188]\n",
      " [ 29  10  30 161]]\n"
     ]
    }
   ],
   "source": [
    "#14. replace the last column with sum of all the columns\n",
    "R1[:,3] = np.sum(R1, axis=1)\n",
    "print(R1)"
   ]
  },
  {
   "cell_type": "code",
   "execution_count": 7,
   "metadata": {},
   "outputs": [
    {
     "name": "stdout",
     "output_type": "stream",
     "text": [
      "[[29 37 10 32]\n",
      " [18 20 23 12]\n",
      " [26 25 17 19]]\n"
     ]
    }
   ],
   "source": [
    "# create a matrix (3x4) R1 of random numbers between 10-40\n",
    "R1 = np.random.randint(10,40,(3,4))\n",
    "print(R1)"
   ]
  },
  {
   "cell_type": "code",
   "execution_count": 14,
   "metadata": {},
   "outputs": [
    {
     "name": "stdout",
     "output_type": "stream",
     "text": [
      "[[nan nan 21. 21.]\n",
      " [nan 33. 13. nan]\n",
      " [35. 21. nan nan]]\n"
     ]
    }
   ],
   "source": [
    "# replace all even elements with nan in R1\n",
    "\n",
    "R1 = R1.astype('float')\n",
    "R1[R1 % 2==0] = np.nan\n",
    "print(R1)"
   ]
  },
  {
   "cell_type": "code",
   "execution_count": 12,
   "metadata": {},
   "outputs": [
    {
     "name": "stdout",
     "output_type": "stream",
     "text": [
      "6\n"
     ]
    }
   ],
   "source": [
    "\n",
    "# count number of nan in R1\n",
    "\n",
    "print(np.count_nonzero(np.isnan(R1)))"
   ]
  },
  {
   "cell_type": "code",
   "execution_count": 15,
   "metadata": {},
   "outputs": [
    {
     "name": "stdout",
     "output_type": "stream",
     "text": [
      "[ 1  2  3  4  5  6  7  8  9 11 12 13 14 15 16 17 18 19]\n",
      "[[ 1  2  3]\n",
      " [ 4  5  6]\n",
      " [ 7  8  9]\n",
      " [11 12 13]\n",
      " [14 15 16]\n",
      " [17 18 19]]\n",
      "[[ 1  2  3 11 12 13]\n",
      " [ 4  5  6 14 15 16]\n",
      " [ 7  8  9 17 18 19]]\n"
     ]
    }
   ],
   "source": [
    "# 15.check output of this code\n",
    "a1 = np.arange(1,10).reshape(3,3)\n",
    "a2 = np.arange(11,20).reshape(3,3)\n",
    "a3 = np.append(a1,a2)\n",
    "print(a3)\n",
    "a3 = np.append(a1,a2, axis = 0)\n",
    "print(a3)\n",
    "a3 = np.append(a1,a2, axis = 1)\n",
    "print(a3)"
   ]
  },
  {
   "cell_type": "code",
   "execution_count": null,
   "metadata": {},
   "outputs": [],
   "source": []
  }
 ],
 "metadata": {
  "kernelspec": {
   "display_name": "Python 3",
   "language": "python",
   "name": "python3"
  },
  "language_info": {
   "codemirror_mode": {
    "name": "ipython",
    "version": 3
   },
   "file_extension": ".py",
   "mimetype": "text/x-python",
   "name": "python",
   "nbconvert_exporter": "python",
   "pygments_lexer": "ipython3",
   "version": "3.7.6"
  }
 },
 "nbformat": 4,
 "nbformat_minor": 2
}
