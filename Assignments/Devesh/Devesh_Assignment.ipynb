{
 "cells": [
  {
   "cell_type": "markdown",
   "metadata": {},
   "source": [
    "## NUMPY\n",
    "- create a numpy array of 5 zeros.\n",
    "    - check datatype, itemsize and shape of above\n",
    "- create a numpy array of ones of shape (5,4)\n",
    "- create a matrix of shape 4,5 with numbers from 1-20\n",
    "- multiply all elements of above array by 10\n",
    "- print odd elements from array\n",
    "- replace all even elements by their negative\n",
    "  \n",
    "  \n",
    "  \n",
    "- create a linearly spaced matrix M1 of size 4x4 having values in range 1-16\n",
    "- create a transpose of above matrix call it M2\n",
    "- find sum of above matrix M3 = (M1 + M2)\n",
    "- Find Transpose of M3, Call it MT1. Check if M3 == MT1\n",
    "- find diffrence of M4 = (M1 - M2)\n",
    "- Find Transpose of M4, Call it MT2. Check if M4 == MT2. Also check if M4 == -MT2\n",
    "  \n",
    "\n",
    "- create a matrix (3x4) R1 of random numbers between 10-40\n",
    "- find min and max column wise\n",
    "- replace the last column with sum of all the columns\n",
    "\n",
    "\n",
    "- create a matrix (3x4) R1 of random numbers between 10-40\n",
    "- replace all even elements with nan in R1\n",
    "- count number of nan in R1\n",
    "\n",
    "\n",
    "\n",
    "- check output of this code  \n",
    "`a1 = np.arange(1,10).reshape(3,3)\n",
    "a2 = np.arange(11,20).reshape(3,3)\n",
    "a3 = np.append(a1,a2)\n",
    "print(a3)\n",
    "a3 = np.append(a1,a2, axis = 0)\n",
    "print(a3)\n",
    "a3 = np.append(a1,a2, axis = 1)\n",
    "print(a3)\n",
    "`\n"
   ]
  },
  {
   "cell_type": "code",
   "execution_count": 4,
   "metadata": {},
   "outputs": [
    {
     "name": "stdout",
     "output_type": "stream",
     "text": [
      "<class 'numpy.ndarray'>\n",
      "<class 'numpy.ndarray'>\n",
      "<class 'numpy.float64'>\n",
      "<class 'numpy.int32'>\n",
      "8\n",
      "4\n",
      "(5,)\n"
     ]
    }
   ],
   "source": [
    "# create a numpy array of 5 zeros.\n",
    "# check datatype, itemsize and shape of above\n",
    "\n",
    "import numpy as np\n",
    "arrayNew = np.zeros(5)                      # without defining Datatype\n",
    "arrayNew1 = np.zeros(5, dtype='int32')      # With defined datatype int32\n",
    "\n",
    "\n",
    "print(type(arrayNew))               # Type of array        \n",
    "print(type(arrayNew1))              # Type of array\n",
    "\n",
    "print(type(arrayNew[0]))            # Type of element of array\n",
    "print(type(arrayNew1[0]))           # Type of element of array\n",
    "\n",
    "\n",
    "print(arrayNew.itemsize)            # itemsize of float dtype array\n",
    "print(arrayNew1.itemsize)           # itemsize of int32 dtype array\n",
    "\n",
    "print(arrayNew.shape)               # shape of array = one dimensional 5 elements"
   ]
  },
  {
   "cell_type": "code",
   "execution_count": 18,
   "metadata": {},
   "outputs": [
    {
     "name": "stdout",
     "output_type": "stream",
     "text": [
      "[[0 0 0 0]\n",
      " [0 0 0 0]\n",
      " [0 0 0 0]\n",
      " [0 0 0 0]\n",
      " [0 0 0 0]]\n"
     ]
    }
   ],
   "source": [
    "#create a numpy array of ones of shape (5,4)\n",
    "arrayNew = np.zeros(20, dtype='int32').reshape(5,4)\n",
    "print(arrayNew)\n"
   ]
  },
  {
   "cell_type": "code",
   "execution_count": 39,
   "metadata": {},
   "outputs": [
    {
     "name": "stdout",
     "output_type": "stream",
     "text": [
      "[[ 1  2  3  4  5]\n",
      " [ 6  7  8  9 10]\n",
      " [11 12 13 14 15]\n",
      " [16 17 18 19 20]]\n",
      "\n",
      "[[ 10  20  30  40  50]\n",
      " [ 60  70  80  90 100]\n",
      " [110 120 130 140 150]\n",
      " [160 170 180 190 200]]\n",
      "\n",
      "[ 1  3  5  7  9 11 13 15 17 19]\n",
      "\n",
      "[[ -1  -2  -3  -4  -5]\n",
      " [ -6  -7  -8  -9 -10]\n",
      " [-11 -12 -13 -14 -15]\n",
      " [-16 -17 -18 -19 -20]]\n"
     ]
    }
   ],
   "source": [
    "# create a matrix of shape 4,5 with numbers from 1-20\n",
    "# multiply all elements of above array by 10\n",
    "# print odd elements from array\n",
    "# replace all even elements by their negative\n",
    "\n",
    "arrayNew = np.arange(1,21).reshape(4,5)\n",
    "print(arrayNew)        # array of 20 elements from of matrix (4,5)\n",
    "\n",
    "print()\n",
    "multArray = arrayNew*10\n",
    "print(multArray)       # array of 20 elements multiplied by 10\n",
    "\n",
    "\n",
    "print()\n",
    "print(arrayNew[arrayNew % 2 != 0])     # All odd elements\n",
    "\n",
    "\n",
    "print()\n",
    "arrayNew = (arrayNew *-1)          # replaced all elements by their negative value\n",
    "print(arrayNew)"
   ]
  },
  {
   "cell_type": "code",
   "execution_count": 14,
   "metadata": {},
   "outputs": [
    {
     "name": "stdout",
     "output_type": "stream",
     "text": [
      "[[ 1  2  3  4]\n",
      " [ 5  6  7  8]\n",
      " [ 9 10 11 12]\n",
      " [13 14 15 16]]\n",
      "\n",
      "Transpose of M1\n",
      "[[ 1  5  9 13]\n",
      " [ 2  6 10 14]\n",
      " [ 3  7 11 15]\n",
      " [ 4  8 12 16]]\n",
      "\n",
      "Sum of M1 and M2\n",
      "[[ 2  7 12 17]\n",
      " [ 7 12 17 22]\n",
      " [12 17 22 27]\n",
      " [17 22 27 32]]\n",
      "\n",
      " Transpose of M3 is MT1\n",
      "[[ 2  7 12 17]\n",
      " [ 7 12 17 22]\n",
      " [12 17 22 27]\n",
      " [17 22 27 32]]\n",
      "\n",
      " Checking if MT1 == M3\n",
      " [[ True  True  True  True]\n",
      " [ True  True  True  True]\n",
      " [ True  True  True  True]\n",
      " [ True  True  True  True]]\n",
      "\n",
      " M1 -M2 is \n",
      " [[ 0 -3 -6 -9]\n",
      " [ 3  0 -3 -6]\n",
      " [ 6  3  0 -3]\n",
      " [ 9  6  3  0]]\n",
      "\n",
      " Transpose of M4 \n",
      " [[ 0  3  6  9]\n",
      " [-3  0  3  6]\n",
      " [-6 -3  0  3]\n",
      " [-9 -6 -3  0]]\n",
      "\n",
      "checking if M4 == MT2\n",
      " [[ True False False False]\n",
      " [False  True False False]\n",
      " [False False  True False]\n",
      " [False False False  True]]\n",
      "\n",
      "checking if M4 == -MT22\n",
      " [[ True  True  True  True]\n",
      " [ True  True  True  True]\n",
      " [ True  True  True  True]\n",
      " [ True  True  True  True]]\n"
     ]
    }
   ],
   "source": [
    "# - create a linearly spaced matrix M1 of size 4x4 having values in range 1-16\n",
    "# - create a transpose of above matrix call it M2\n",
    "# - find sum of above matrix M3 = (M1 + M2)\n",
    "# - Find Transpose of M3, Call it MT1. Check if M3 == MT1\n",
    "# - find diffrence of M4 = (M1 - M2)\n",
    "# - Find Transpose of M4, Call it MT2. Check if M4 == MT2. Also check if M4 == -MT2\n",
    "\n",
    "\n",
    "M1 = np.arange(1,17).reshape(4,4)          # M1 matrix of 4,4 with values 1-16\n",
    "print(M1)   \n",
    "\n",
    "print(\"\\nTranspose of M1\")\n",
    "M2 = M1.T                                  # Transpose of Matrix M1\n",
    "print(M2)\n",
    "\n",
    "\n",
    "print(\"\\nSum of M1 and M2\")\n",
    "M3 = np.add(M1,M2)                            # Sum Of Matrix M1 and M2\n",
    "print(M3)\n",
    "\n",
    "\n",
    "MT1 = M3.T                                   # Transpose of M3 as MT1 \n",
    "print(\"\\n Transpose of M3 is MT1\")\n",
    "print(MT1)\n",
    "\n",
    "print(\"\\n Checking if MT1 == M3\\n\",MT1 == M3)  #Checking if MT1 == M3\n",
    "\n",
    "\n",
    "M4 = (M1 - M2)\n",
    "print(\"\\n M1 -M2 is \\n\",M4)      # M1 - M2\n",
    "\n",
    " \n",
    "MT2 = M4.T                         # Transpose of M4 as MT2\n",
    "print(\"\\n Transpose of M4 \\n\", MT2)\n",
    "\n",
    "\n",
    "# Check if M4 == MT2. Also check if M4 == -MT2\n",
    "print(\"\\nchecking if M4 == MT2\\n\",M4 == MT2)           # checking if M4 == MT\n",
    "\n",
    "print(\"\\nchecking if M4 == -MT22\\n\",M4 == -MT2)         # checking if M4 == -MT22\n"
   ]
  },
  {
   "cell_type": "code",
   "execution_count": 72,
   "metadata": {},
   "outputs": [
    {
     "name": "stdout",
     "output_type": "stream",
     "text": [
      "matrix of 12(3x4) elements, number between 10-40\n",
      "\n",
      " [[37 37 14 35]\n",
      " [31 31 34 20]\n",
      " [34 19 21 37]]\n",
      "\n",
      " Minimum number of array\n",
      " 14\n",
      "\n",
      " Maximum number of array\n",
      " 37\n",
      "\n",
      " Sum of all columns of Matrix N1\n",
      " [123 116 111]\n",
      "\n",
      " Replaced last element with sum of N1 mtrix\n",
      "[[ 37  37  14 123]\n",
      " [ 31  31  34 116]\n",
      " [ 34  19  21 111]]\n"
     ]
    }
   ],
   "source": [
    "# create a matrix (3x4) R1 of random numbers between 10-40\n",
    "# find min and max column wise\n",
    "# replace the last column with sum of all the columns\n",
    "\n",
    "R1 = np.random.randint(low=10, high=40, size=(12)).reshape(3,4)        #matrix of 12(3x4) elements, number between 10-40\n",
    "print(\"matrix of 12(3x4) elements, number between 10-40\\n\\n\",R1)\n",
    "\n",
    "print(\"\\n Minimum number of array\\n\",R1.min())\n",
    "\n",
    "print(\"\\n Maximum number of array\\n\",R1.max())\n",
    "\n",
    "R1Sum = np.sum(R1, axis = 1)                # Sum of all columns of Matrix N1\n",
    "print(\"\\n Sum of all columns of Matrix N1\\n\", R1Sum)\n",
    "\n",
    "\n",
    "print(\"\\n Replaced last element with sum of N1 mtrix\")\n",
    "R1[:,3] = R1Sum                  #Replaced last element with sum of all columns of N1 matrix\n",
    "print(R1)"
   ]
  },
  {
   "cell_type": "code",
   "execution_count": 104,
   "metadata": {},
   "outputs": [
    {
     "name": "stdout",
     "output_type": "stream",
     "text": [
      "matrix of 12(3x4) elements, number between 10-40\n",
      "\n",
      " [[23 30 29 38]\n",
      " [37 20 11 24]\n",
      " [18 11 38 20]]\n",
      "\n",
      "Replaced all even numbers with nan\n",
      " [[23. nan 29. nan]\n",
      " [37. nan 11. nan]\n",
      " [nan 11. nan nan]]\n",
      "\n",
      " Number of Nan in numpy array\n",
      " 7\n"
     ]
    }
   ],
   "source": [
    "# create a matrix (3x4) R1 of random numbers between 10-40\n",
    "# replace all even elements with nan in R1\n",
    "# count number of nan in R1\n",
    "\n",
    "R1 = np.random.randint(low=10, high=40, size=(12)).reshape(3,4)        #matrix of 12(3x4) elements, number between 10-40\n",
    "print(\"matrix of 12(3x4) elements, number between 10-40\\n\\n\",R1)\n",
    "\n",
    "R1 = R1.astype('float')\n",
    "R1[R1 % 2==0] = np.nan                                         #Replaced all even numbers with nan\n",
    "print(\"\\nReplaced all even numbers with nan\\n\",R1)\n",
    "\n",
    "\n",
    "print(\"\\n Number of Nan in numpy array\\n\",np.count_nonzero(np.isnan(R1)))"
   ]
  },
  {
   "cell_type": "code",
   "execution_count": 106,
   "metadata": {},
   "outputs": [
    {
     "name": "stdout",
     "output_type": "stream",
     "text": [
      "[[1 2 3]\n",
      " [4 5 6]\n",
      " [7 8 9]]\n",
      "[[11 12 13]\n",
      " [14 15 16]\n",
      " [17 18 19]]\n",
      "[ 1  2  3  4  5  6  7  8  9 11 12 13 14 15 16 17 18 19]\n",
      "[[ 1  2  3]\n",
      " [ 4  5  6]\n",
      " [ 7  8  9]\n",
      " [11 12 13]\n",
      " [14 15 16]\n",
      " [17 18 19]]\n",
      "[[ 1  2  3 11 12 13]\n",
      " [ 4  5  6 14 15 16]\n",
      " [ 7  8  9 17 18 19]]\n"
     ]
    }
   ],
   "source": [
    "# check output of this code\n",
    "\n",
    "a1 = np.arange(1,10).reshape(3,3)\n",
    "print(a1)\n",
    "a2 = np.arange(11,20).reshape(3,3)\n",
    "print(a2)\n",
    "a3 = np.append(a1,a2)\n",
    "print(a3)                         # if we dont mention axis in append function it will return data in only on dimension\n",
    "a3 = np.append(a1,a2, axis = 0)\n",
    "print(a3)                         # if we give axis as 0 than the append function will append data row/column wise appropriately\n",
    "a3 = np.append(a1,a2, axis = 1)\n",
    "print(a3)                         # if we give axis as 1 than the append function will append data column/row wise appropriately"
   ]
  }
 ],
 "metadata": {
  "kernelspec": {
   "display_name": "Python 3",
   "language": "python",
   "name": "python3"
  },
  "language_info": {
   "codemirror_mode": {
    "name": "ipython",
    "version": 3
   },
   "file_extension": ".py",
   "mimetype": "text/x-python",
   "name": "python",
   "nbconvert_exporter": "python",
   "pygments_lexer": "ipython3",
   "version": "3.7.6"
  }
 },
 "nbformat": 4,
 "nbformat_minor": 2
}
