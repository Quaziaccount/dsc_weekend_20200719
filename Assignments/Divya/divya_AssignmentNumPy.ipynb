{
 "cells": [
  {
   "cell_type": "code",
   "execution_count": 8,
   "metadata": {
    "scrolled": true
   },
   "outputs": [
    {
     "name": "stdout",
     "output_type": "stream",
     "text": [
      "[0. 0. 0. 0. 0.] float64 (5,)\n"
     ]
    }
   ],
   "source": [
    "# create a numpy array of 5 zeros.\n",
    "# check datatype, itemsize and shape of above\n",
    "\n",
    "import numpy as np\n",
    "a = np.zeros(5)\n",
    "print(a,a.dtype,a.shape)"
   ]
  },
  {
   "cell_type": "code",
   "execution_count": 11,
   "metadata": {
    "scrolled": true
   },
   "outputs": [
    {
     "name": "stdout",
     "output_type": "stream",
     "text": [
      "[[1. 1. 1. 1.]\n",
      " [1. 1. 1. 1.]\n",
      " [1. 1. 1. 1.]\n",
      " [1. 1. 1. 1.]\n",
      " [1. 1. 1. 1.]]\n"
     ]
    }
   ],
   "source": [
    "# create a numpy array of ones of shape (5,4)\n",
    "\n",
    "import numpy as np\n",
    "a=np.ones((5,4))\n",
    "print(a)"
   ]
  },
  {
   "cell_type": "code",
   "execution_count": 107,
   "metadata": {
    "scrolled": false
   },
   "outputs": [
    {
     "name": "stdout",
     "output_type": "stream",
     "text": [
      "# create a matrix of shape 4,5 with numbers from 1-20\n",
      "None\n",
      "\n",
      "# multiply all elements of above array by 10\n",
      "[[ 10  20  30  40  50]\n",
      " [ 60  70  80  90 100]\n",
      " [110 120 130 140 150]\n",
      " [160 170 180 190 200]]\n",
      "\n",
      "# print odd elements from array\n",
      "\n",
      "Replace all even elements by their negative\n",
      "[ -2  -4  -6  -8 -10 -12 -14 -16 -18 -20]\n"
     ]
    }
   ],
   "source": [
    "# create a matrix of shape 4,5 with numbers from 1-20\n",
    "import numpy as np\n",
    "a = np.arange(1,21)\n",
    "\n",
    "print(\"# create a matrix of shape 4,5 with numbers from 1-20\")\n",
    "print(a.resize(4,5))\n",
    "print()\n",
    "# multiply all elements of above array by 10\n",
    "print(\"# multiply all elements of above array by 10\")\n",
    "print(a*10)\n",
    "print()\n",
    "# print odd elements from array\n",
    "print(\"# print odd elements from array\")\n",
    "i = a%2==1\n",
    "print()\n",
    "print(\"Replace all even elements by their negative\")\n",
    "j = a%2==0\n",
    "print(a[j]*-1)\n"
   ]
  },
  {
   "cell_type": "code",
   "execution_count": 97,
   "metadata": {},
   "outputs": [
    {
     "name": "stdout",
     "output_type": "stream",
     "text": [
      "[[ 1.  2.  3.  4.]\n",
      " [ 5.  6.  7.  8.]\n",
      " [ 9. 10. 11. 12.]\n",
      " [13. 14. 15. 16.]]\n",
      "\n",
      "create a transpose of above matrix call it M2\n",
      "[[ 1.  5.  9. 13.]\n",
      " [ 2.  6. 10. 14.]\n",
      " [ 3.  7. 11. 15.]\n",
      " [ 4.  8. 12. 16.]]\n",
      "\n",
      "find sum of above matrix M3 = (M1 + M2)\n",
      "[[ 2.  7. 12. 17.]\n",
      " [ 7. 12. 17. 22.]\n",
      " [12. 17. 22. 27.]\n",
      " [17. 22. 27. 32.]]\n",
      "\n",
      "Find Transpose of M3, Call it MT1. Check if M3 == MT1\n",
      "[[ True  True  True  True]\n",
      " [ True  True  True  True]\n",
      " [ True  True  True  True]\n",
      " [ True  True  True  True]]\n",
      "\n",
      "find diffrence of M4 = (M1 - M2)\n",
      "[[ 0. -3. -6. -9.]\n",
      " [ 3.  0. -3. -6.]\n",
      " [ 6.  3.  0. -3.]\n",
      " [ 9.  6.  3.  0.]]\n",
      "\n",
      " Find Transpose of M4, Call it MT2. Check if M4 == MT2. Also check if M4 == -MT2\n",
      "[[ True False False False]\n",
      " [False  True False False]\n",
      " [False False  True False]\n",
      " [False False False  True]]\n",
      "[[ True  True  True  True]\n",
      " [ True  True  True  True]\n",
      " [ True  True  True  True]\n",
      " [ True  True  True  True]]\n"
     ]
    }
   ],
   "source": [
    "# create a linearly spaced matrix M1 of size 4x4 having values in range 1-16\n",
    "import numpy as np\n",
    "M1 = np.linspace(1,16,16)\n",
    "M1.resize(4,4)\n",
    "print(M1)\n",
    "print()\n",
    "print(\"create a transpose of above matrix call it M2\")\n",
    "M2= np.transpose(M1)\n",
    "print(M2)\n",
    "print()\n",
    "print(\"find sum of above matrix M3 = (M1 + M2)\")\n",
    "M3 = M1+M2\n",
    "print(M3)\n",
    "print()\n",
    "print(\"Find Transpose of M3, Call it MT1. Check if M3 == MT1\")\n",
    "MT1 = np.transpose(M3)\n",
    "print(M3==MT1)\n",
    "print()\n",
    "print(\"find diffrence of M4 = (M1 - M2)\")\n",
    "M4 = M1-M2\n",
    "print(M4)\n",
    "print()\n",
    "print(\" Find Transpose of M4, Call it MT2. Check if M4 == MT2. Also check if M4 == -MT2\")\n",
    "MT2=np.transpose(M4)\n",
    "print(M4 == MT2)\n",
    "print(M4 == (-MT2))"
   ]
  },
  {
   "cell_type": "code",
   "execution_count": 85,
   "metadata": {
    "scrolled": true
   },
   "outputs": [
    {
     "name": "stdout",
     "output_type": "stream",
     "text": [
      "[[13 36 12 32]\n",
      " [11 31 27 17]\n",
      " [22 35 27 29]]\n",
      "\n",
      "Min col wise : [11 31 12 17]\n",
      "Max col wise : [22 36 27 32]\n",
      "Min row wise : [12 11 22]\n",
      "Max row wise : [36 31 35]\n"
     ]
    }
   ],
   "source": [
    "#create a matrix (3x4) R1 of random numbers between 10-40\n",
    "a = np.random.randint(10,40,size=(3,4))\n",
    "print(a)\n",
    "print()\n",
    "#find min and max column wise\n",
    "print(\"Min col wise :\",a.min(axis=0))\n",
    "print(\"Max col wise :\",a.max(axis=0))\n",
    "print(\"Min row wise :\",a.min(axis=1))\n",
    "print(\"Max row wise :\",a.max(axis=1))\n",
    "#replace the last column with sum of all the columns\n"
   ]
  },
  {
   "cell_type": "code",
   "execution_count": 113,
   "metadata": {
    "scrolled": true
   },
   "outputs": [
    {
     "name": "stdout",
     "output_type": "stream",
     "text": [
      "[[12 21 35 14]\n",
      " [23 36 32 30]\n",
      " [39 37 23 17]]\n"
     ]
    },
    {
     "ename": "NameError",
     "evalue": "name 'NDV' is not defined",
     "output_type": "error",
     "traceback": [
      "\u001b[1;31m---------------------------------------------------------------------------\u001b[0m",
      "\u001b[1;31mNameError\u001b[0m                                 Traceback (most recent call last)",
      "\u001b[1;32m<ipython-input-113-998692fca5fb>\u001b[0m in \u001b[0;36m<module>\u001b[1;34m\u001b[0m\n\u001b[0;32m      5\u001b[0m \u001b[0mi\u001b[0m\u001b[1;33m=\u001b[0m\u001b[0mR1\u001b[0m\u001b[1;33m%\u001b[0m\u001b[1;36m2\u001b[0m\u001b[1;33m==\u001b[0m\u001b[1;36m0\u001b[0m\u001b[1;33m\u001b[0m\u001b[1;33m\u001b[0m\u001b[0m\n\u001b[0;32m      6\u001b[0m \u001b[0mj\u001b[0m\u001b[1;33m=\u001b[0m\u001b[0mR1\u001b[0m\u001b[1;33m%\u001b[0m\u001b[1;36m2\u001b[0m\u001b[1;33m==\u001b[0m\u001b[1;36m1\u001b[0m\u001b[1;33m\u001b[0m\u001b[1;33m\u001b[0m\u001b[0m\n\u001b[1;32m----> 7\u001b[1;33m \u001b[0mR1\u001b[0m\u001b[1;33m[\u001b[0m\u001b[0mR1\u001b[0m\u001b[1;33m==\u001b[0m\u001b[0mNDV\u001b[0m\u001b[1;33m]\u001b[0m\u001b[1;33m=\u001b[0m\u001b[0mnp\u001b[0m\u001b[1;33m.\u001b[0m\u001b[0mnan\u001b[0m\u001b[1;33m\u001b[0m\u001b[1;33m\u001b[0m\u001b[0m\n\u001b[0m\u001b[0;32m      8\u001b[0m \u001b[1;31m# - count number of nan in R1\u001b[0m\u001b[1;33m\u001b[0m\u001b[1;33m\u001b[0m\u001b[1;33m\u001b[0m\u001b[0m\n",
      "\u001b[1;31mNameError\u001b[0m: name 'NDV' is not defined"
     ]
    }
   ],
   "source": [
    "\n",
    "# - create a matrix (3x4) R1 of random numbers between 10-40\n",
    "R1 = np.random.randint(10,40,size=(3,4))\n",
    "print(R1)\n",
    "# - replace all even elements with nan in R1\n",
    "i=R1%2==0\n",
    "j=R1%2==1\n",
    "R1[R1==NDV]=np.nan\n",
    "# - count number of nan in R1\n"
   ]
  },
  {
   "cell_type": "code",
   "execution_count": 115,
   "metadata": {},
   "outputs": [
    {
     "name": "stdout",
     "output_type": "stream",
     "text": [
      "[ 1  2  3  4  5  6  7  8  9 11 12 13 14 15 16 17 18 19]\n",
      "-------\n",
      "[[ 1  2  3]\n",
      " [ 4  5  6]\n",
      " [ 7  8  9]\n",
      " [11 12 13]\n",
      " [14 15 16]\n",
      " [17 18 19]]\n",
      "-------\n",
      "[[ 1  2  3 11 12 13]\n",
      " [ 4  5  6 14 15 16]\n",
      " [ 7  8  9 17 18 19]]\n",
      "-------\n"
     ]
    }
   ],
   "source": [
    "a1 = np.arange(1,10).reshape(3,3)\n",
    "a2 = np.arange(11,20).reshape(3,3)\n",
    "a3 = np.append(a1,a2)\n",
    "print(a3)\n",
    "print(\"-------\")\n",
    "a3 = np.append(a1,a2, axis = 0)\n",
    "print(a3)\n",
    "print(\"-------\")\n",
    "a3 = np.append(a1,a2, axis = 1)\n",
    "print(a3)\n",
    "print(\"-------\")"
   ]
  }
 ],
 "metadata": {
  "kernelspec": {
   "display_name": "Python 3",
   "language": "python",
   "name": "python3"
  },
  "language_info": {
   "codemirror_mode": {
    "name": "ipython",
    "version": 3
   },
   "file_extension": ".py",
   "mimetype": "text/x-python",
   "name": "python",
   "nbconvert_exporter": "python",
   "pygments_lexer": "ipython3",
   "version": "3.7.6"
  }
 },
 "nbformat": 4,
 "nbformat_minor": 4
}
